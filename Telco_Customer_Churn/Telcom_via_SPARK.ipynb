{
 "cells": [
  {
   "cell_type": "markdown",
   "id": "sublime-hudson",
   "metadata": {},
   "source": [
    "see also https://www.youtube.com/watch?v=hbTJvjfX1fA"
   ]
  },
  {
   "cell_type": "code",
   "execution_count": 1,
   "id": "rolled-consensus",
   "metadata": {},
   "outputs": [],
   "source": [
    "import findspark\n",
    "findspark.init()"
   ]
  },
  {
   "cell_type": "code",
   "execution_count": 25,
   "id": "aggregate-lincoln",
   "metadata": {},
   "outputs": [],
   "source": [
    "from pyspark import SparkConf, SparkContext\n",
    "from pyspark.sql import SQLContext\n",
    "import pyspark.sql.functions as F"
   ]
  },
  {
   "cell_type": "code",
   "execution_count": 83,
   "id": "incoming-rebel",
   "metadata": {},
   "outputs": [],
   "source": [
    "from itertools import chain"
   ]
  },
  {
   "cell_type": "code",
   "execution_count": 3,
   "id": "sustained-trash",
   "metadata": {},
   "outputs": [],
   "source": [
    "#from pyspark import SparkConf, SparkContext\n",
    "conf = SparkConf().setAppName(\"Telcom\").setMaster(\"local[4]\")\n",
    "sc = SparkContext(conf=conf)"
   ]
  },
  {
   "cell_type": "code",
   "execution_count": 4,
   "id": "strong-hypothesis",
   "metadata": {},
   "outputs": [
    {
     "data": {
      "text/html": [
       "\n",
       "        <div>\n",
       "            <p><b>SparkContext</b></p>\n",
       "\n",
       "            <p><a href=\"http://h2894565.stratoserver.net:4040\">Spark UI</a></p>\n",
       "\n",
       "            <dl>\n",
       "              <dt>Version</dt>\n",
       "                <dd><code>v3.1.1</code></dd>\n",
       "              <dt>Master</dt>\n",
       "                <dd><code>local[4]</code></dd>\n",
       "              <dt>AppName</dt>\n",
       "                <dd><code>Telcom</code></dd>\n",
       "            </dl>\n",
       "        </div>\n",
       "        "
      ],
      "text/plain": [
       "<SparkContext master=local[4] appName=Telcom>"
      ]
     },
     "execution_count": 4,
     "metadata": {},
     "output_type": "execute_result"
    }
   ],
   "source": [
    "sc"
   ]
  },
  {
   "cell_type": "code",
   "execution_count": 20,
   "id": "north-aluminum",
   "metadata": {},
   "outputs": [],
   "source": [
    "\n",
    "sqlContext = SQLContext(sc)\n",
    "\n",
    "#df = sqlContext.read.format('com.databricks.spark.csv').options(header='true', inferschema='true').load('./data/WA_Fn-UseC_-Telco-Customer-Churn.csv')\n",
    "df = sqlContext.read.format('csv').options(header='true', inferschema='true').load('./data/WA_Fn-UseC_-Telco-Customer-Churn.csv')"
   ]
  },
  {
   "cell_type": "code",
   "execution_count": 21,
   "id": "understanding-density",
   "metadata": {},
   "outputs": [
    {
     "name": "stdout",
     "output_type": "stream",
     "text": [
      "+----------+------+-------------+-------+----------+------+------------+----------------+---------------+--------------+------------+----------------+-----------+-----------+---------------+--------------+----------------+--------------------+--------------+------------+-----+\n",
      "|customerID|gender|SeniorCitizen|Partner|Dependents|tenure|PhoneService|   MultipleLines|InternetService|OnlineSecurity|OnlineBackup|DeviceProtection|TechSupport|StreamingTV|StreamingMovies|      Contract|PaperlessBilling|       PaymentMethod|MonthlyCharges|TotalCharges|Churn|\n",
      "+----------+------+-------------+-------+----------+------+------------+----------------+---------------+--------------+------------+----------------+-----------+-----------+---------------+--------------+----------------+--------------------+--------------+------------+-----+\n",
      "|7590-VHVEG|Female|            0|    Yes|        No|     1|          No|No phone service|            DSL|            No|         Yes|              No|         No|         No|             No|Month-to-month|             Yes|    Electronic check|         29.85|       29.85|   No|\n",
      "|5575-GNVDE|  Male|            0|     No|        No|    34|         Yes|              No|            DSL|           Yes|          No|             Yes|         No|         No|             No|      One year|              No|        Mailed check|         56.95|      1889.5|   No|\n",
      "|3668-QPYBK|  Male|            0|     No|        No|     2|         Yes|              No|            DSL|           Yes|         Yes|              No|         No|         No|             No|Month-to-month|             Yes|        Mailed check|         53.85|      108.15|  Yes|\n",
      "|7795-CFOCW|  Male|            0|     No|        No|    45|          No|No phone service|            DSL|           Yes|          No|             Yes|        Yes|         No|             No|      One year|              No|Bank transfer (au...|          42.3|     1840.75|   No|\n",
      "|9237-HQITU|Female|            0|     No|        No|     2|         Yes|              No|    Fiber optic|            No|          No|              No|         No|         No|             No|Month-to-month|             Yes|    Electronic check|          70.7|      151.65|  Yes|\n",
      "+----------+------+-------------+-------+----------+------+------------+----------------+---------------+--------------+------------+----------------+-----------+-----------+---------------+--------------+----------------+--------------------+--------------+------------+-----+\n",
      "only showing top 5 rows\n",
      "\n"
     ]
    }
   ],
   "source": [
    "df.show(5)"
   ]
  },
  {
   "cell_type": "code",
   "execution_count": 22,
   "id": "composed-party",
   "metadata": {},
   "outputs": [
    {
     "name": "stdout",
     "output_type": "stream",
     "text": [
      "root\n",
      " |-- customerID: string (nullable = true)\n",
      " |-- gender: string (nullable = true)\n",
      " |-- SeniorCitizen: integer (nullable = true)\n",
      " |-- Partner: string (nullable = true)\n",
      " |-- Dependents: string (nullable = true)\n",
      " |-- tenure: integer (nullable = true)\n",
      " |-- PhoneService: string (nullable = true)\n",
      " |-- MultipleLines: string (nullable = true)\n",
      " |-- InternetService: string (nullable = true)\n",
      " |-- OnlineSecurity: string (nullable = true)\n",
      " |-- OnlineBackup: string (nullable = true)\n",
      " |-- DeviceProtection: string (nullable = true)\n",
      " |-- TechSupport: string (nullable = true)\n",
      " |-- StreamingTV: string (nullable = true)\n",
      " |-- StreamingMovies: string (nullable = true)\n",
      " |-- Contract: string (nullable = true)\n",
      " |-- PaperlessBilling: string (nullable = true)\n",
      " |-- PaymentMethod: string (nullable = true)\n",
      " |-- MonthlyCharges: double (nullable = true)\n",
      " |-- TotalCharges: string (nullable = true)\n",
      " |-- Churn: string (nullable = true)\n",
      "\n"
     ]
    }
   ],
   "source": [
    "df.printSchema()"
   ]
  },
  {
   "cell_type": "code",
   "execution_count": 48,
   "id": "positive-acrylic",
   "metadata": {},
   "outputs": [
    {
     "name": "stdout",
     "output_type": "stream",
     "text": [
      "+----------+------+-------------+-------+----------+------+------------+-------------+---------------+--------------+------------+----------------+-----------+-----------+---------------+--------+----------------+-------------+--------------+------------+-----+\n",
      "|customerID|gender|SeniorCitizen|Partner|Dependents|tenure|PhoneService|MultipleLines|InternetService|OnlineSecurity|OnlineBackup|DeviceProtection|TechSupport|StreamingTV|StreamingMovies|Contract|PaperlessBilling|PaymentMethod|MonthlyCharges|TotalCharges|Churn|\n",
      "+----------+------+-------------+-------+----------+------+------------+-------------+---------------+--------------+------------+----------------+-----------+-----------+---------------+--------+----------------+-------------+--------------+------------+-----+\n",
      "|         0|     0|            0|      0|         0|     0|           0|            0|              0|             0|           0|               0|          0|          0|              0|       0|               0|            0|             0|           0|    0|\n",
      "+----------+------+-------------+-------+----------+------+------------+-------------+---------------+--------------+------------+----------------+-----------+-----------+---------------+--------+----------------+-------------+--------------+------------+-----+\n",
      "\n"
     ]
    }
   ],
   "source": [
    "df.select([F.count(F.when(F.col(c).isNull() | F.isnan(c), c)).alias(c) for c in df.columns]).show()"
   ]
  },
  {
   "cell_type": "markdown",
   "id": "external-understanding",
   "metadata": {},
   "source": [
    "# Process with PySpark"
   ]
  },
  {
   "cell_type": "code",
   "execution_count": 69,
   "id": "photographic-contribution",
   "metadata": {},
   "outputs": [
    {
     "name": "stdout",
     "output_type": "stream",
     "text": [
      "+-----+-----+\n",
      "|Churn|count|\n",
      "+-----+-----+\n",
      "|   No| 5174|\n",
      "|  Yes| 1869|\n",
      "+-----+-----+\n",
      "\n"
     ]
    }
   ],
   "source": [
    "df.groupby('Churn').count().show()"
   ]
  },
  {
   "cell_type": "markdown",
   "id": "moved-india",
   "metadata": {},
   "source": [
    "* imbalanced groups"
   ]
  },
  {
   "cell_type": "code",
   "execution_count": 70,
   "id": "flush-experience",
   "metadata": {},
   "outputs": [
    {
     "name": "stdout",
     "output_type": "stream",
     "text": [
      "+-------+------------------+------------------+------------------+\n",
      "|summary|            tenure|      TotalCharges|    MonthlyCharges|\n",
      "+-------+------------------+------------------+------------------+\n",
      "|  count|              7043|              7043|              7043|\n",
      "|   mean| 32.37114865824223|2283.3004408418697| 64.76169246059922|\n",
      "| stddev|24.559481023094442| 2266.771361883145|30.090047097678482|\n",
      "|    min|                 0|                  |             18.25|\n",
      "|    max|                72|             999.9|            118.75|\n",
      "+-------+------------------+------------------+------------------+\n",
      "\n"
     ]
    }
   ],
   "source": [
    "df.select('tenure','TotalCharges','MonthlyCharges').describe().show()"
   ]
  },
  {
   "cell_type": "code",
   "execution_count": 80,
   "id": "cloudy-expert",
   "metadata": {},
   "outputs": [
    {
     "name": "stdout",
     "output_type": "stream",
     "text": [
      "+-----+------+----+\n",
      "|churn|Female|Male|\n",
      "+-----+------+----+\n",
      "|   No|  2549|2625|\n",
      "|  Yes|   939| 930|\n",
      "+-----+------+----+\n",
      "\n"
     ]
    }
   ],
   "source": [
    "df.groupby('churn').pivot('gender').count().show()"
   ]
  },
  {
   "cell_type": "code",
   "execution_count": 81,
   "id": "polish-separate",
   "metadata": {},
   "outputs": [
    {
     "name": "stdout",
     "output_type": "stream",
     "text": [
      "+-------------+----+----+\n",
      "|SeniorCitizen|  No| Yes|\n",
      "+-------------+----+----+\n",
      "|            1| 666| 476|\n",
      "|            0|4508|1393|\n",
      "+-------------+----+----+\n",
      "\n"
     ]
    }
   ],
   "source": [
    "df.groupby('SeniorCitizen').pivot('churn').count().show()"
   ]
  },
  {
   "cell_type": "code",
   "execution_count": 91,
   "id": "studied-novelty",
   "metadata": {},
   "outputs": [
    {
     "name": "stdout",
     "output_type": "stream",
     "text": [
      "levels of \"churn\": ['No', 'Yes']\n",
      "+-------------+------------------+-------------------+\n",
      "|SeniorCitizen|                No|                Yes|\n",
      "+-------------+------------------+-------------------+\n",
      "|            1|0.5831873905429071| 0.4168126094570928|\n",
      "|            0| 0.763938315539739|0.23606168446026096|\n",
      "+-------------+------------------+-------------------+\n",
      "\n"
     ]
    }
   ],
   "source": [
    "def make_normalized_pivot(df, group_col, pivot_col, verbose=1):\n",
    "    \n",
    "    # https://stackoverflow.com/questions/40805808/percentage-count-per-group-and-pivot-with-pyspark\n",
    "    levels = [x for x in chain(*df.select(\"churn\").distinct().collect())]\n",
    "    if verbose: print(f'levels of \"{pivot_col}\": {levels}')\n",
    "    \n",
    "    pivoted = df.groupby(group_col).pivot(pivot_col, levels).count()\n",
    "    row_count = sum(F.coalesce(F.col(x), F.lit(0)) for x in levels)\n",
    "    #row_count = sum(coalesce(col(x), lit(0)) for x in levels)\n",
    "    adjusted = [(F.col(x) / row_count).alias(x) for x in levels]\n",
    "    return pivoted.select(F.col(group_col), *adjusted)\n",
    "                    \n",
    "make_normalized_pivot(df=df, group_col='SeniorCitizen', pivot_col='churn').show()"
   ]
  },
  {
   "cell_type": "code",
   "execution_count": 92,
   "id": "alike-gambling",
   "metadata": {},
   "outputs": [
    {
     "name": "stdout",
     "output_type": "stream",
     "text": [
      "+-----------------------------+----+-----------+----+\n",
      "|SeniorCitizen_InternetService| DSL|Fiber optic|  No|\n",
      "+-----------------------------+----+-----------+----+\n",
      "|                            1| 259|        831|  52|\n",
      "|                            0|2162|       2265|1474|\n",
      "+-----------------------------+----+-----------+----+\n",
      "\n"
     ]
    }
   ],
   "source": [
    "df.stat.crosstab(\"SeniorCitizen\",\"InternetService\").show()"
   ]
  },
  {
   "cell_type": "code",
   "execution_count": 96,
   "id": "collect-check",
   "metadata": {},
   "outputs": [
    {
     "name": "stdout",
     "output_type": "stream",
     "text": [
      "+-------------+---------------+\n",
      "|SeniorCitizen|InternetService|\n",
      "+-------------+---------------+\n",
      "|            0|             No|\n",
      "|            1|            DSL|\n",
      "|            1|    Fiber optic|\n",
      "|            0|            DSL|\n",
      "|            0|            DSL|\n",
      "|            0|             No|\n",
      "|            0|            DSL|\n",
      "|            0|            DSL|\n",
      "|            0|             No|\n",
      "|            0|    Fiber optic|\n",
      "|            1|    Fiber optic|\n",
      "|            0|             No|\n",
      "|            1|    Fiber optic|\n",
      "|            1|    Fiber optic|\n",
      "|            0|    Fiber optic|\n",
      "|            1|    Fiber optic|\n",
      "|            0|             No|\n",
      "+-------------+---------------+\n",
      "\n"
     ]
    }
   ],
   "source": [
    "df.select('SeniorCitizen','InternetService').sample(False,.002).show()"
   ]
  },
  {
   "cell_type": "markdown",
   "id": "flush-entry",
   "metadata": {},
   "source": [
    "# Process as standard pandas df"
   ]
  },
  {
   "cell_type": "code",
   "execution_count": 62,
   "id": "removed-filter",
   "metadata": {},
   "outputs": [],
   "source": [
    "pd_df = df.sample(False, .05, seed=1).toPandas()"
   ]
  },
  {
   "cell_type": "code",
   "execution_count": 63,
   "id": "absent-prototype",
   "metadata": {},
   "outputs": [
    {
     "data": {
      "text/plain": [
       "347"
      ]
     },
     "execution_count": 63,
     "metadata": {},
     "output_type": "execute_result"
    }
   ],
   "source": [
    "pd_df.__len__()"
   ]
  },
  {
   "cell_type": "markdown",
   "id": "closed-poland",
   "metadata": {},
   "source": [
    "# Process as SQL"
   ]
  },
  {
   "cell_type": "code",
   "execution_count": 66,
   "id": "first-nursery",
   "metadata": {},
   "outputs": [],
   "source": [
    "tmp_table_name = \"churn_analysis\"\n",
    "df.createOrReplaceTempView(tmp_table_name)"
   ]
  },
  {
   "cell_type": "code",
   "execution_count": 67,
   "id": "hollywood-demographic",
   "metadata": {},
   "outputs": [
    {
     "data": {
      "text/plain": [
       "pyspark.sql.dataframe.DataFrame"
      ]
     },
     "execution_count": 67,
     "metadata": {},
     "output_type": "execute_result"
    }
   ],
   "source": [
    "type(df)"
   ]
  },
  {
   "cell_type": "code",
   "execution_count": 68,
   "id": "final-fraud",
   "metadata": {},
   "outputs": [
    {
     "ename": "SyntaxError",
     "evalue": "invalid syntax (<ipython-input-68-a45a80323020>, line 2)",
     "output_type": "error",
     "traceback": [
      "\u001b[0;36m  File \u001b[0;32m\"<ipython-input-68-a45a80323020>\"\u001b[0;36m, line \u001b[0;32m2\u001b[0m\n\u001b[0;31m    select * from churn_analysis\u001b[0m\n\u001b[0m             ^\u001b[0m\n\u001b[0;31mSyntaxError\u001b[0m\u001b[0;31m:\u001b[0m invalid syntax\n"
     ]
    }
   ],
   "source": [
    "%sql\n",
    "select * from churn_analysis"
   ]
  },
  {
   "cell_type": "code",
   "execution_count": null,
   "id": "sophisticated-antibody",
   "metadata": {},
   "outputs": [],
   "source": []
  }
 ],
 "metadata": {
  "kernelspec": {
   "display_name": "Python 3",
   "language": "python",
   "name": "python3"
  },
  "language_info": {
   "codemirror_mode": {
    "name": "ipython",
    "version": 3
   },
   "file_extension": ".py",
   "mimetype": "text/x-python",
   "name": "python",
   "nbconvert_exporter": "python",
   "pygments_lexer": "ipython3",
   "version": "3.9.2"
  }
 },
 "nbformat": 4,
 "nbformat_minor": 5
}
